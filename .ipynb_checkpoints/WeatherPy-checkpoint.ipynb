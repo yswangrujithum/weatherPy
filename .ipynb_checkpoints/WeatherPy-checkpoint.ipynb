{
 "cells": [
  {
   "cell_type": "code",
   "execution_count": 7,
   "metadata": {},
   "outputs": [],
   "source": [
    "# Dependencies and Setup\n",
    "import matplotlib.pyplot as plt\n",
    "import pandas as pd\n",
    "import numpy as np\n",
    "import requests\n",
    "import time\n",
    "from pprint import pprint\n",
    "\n",
    "# Import API key\n",
    "import api_keys\n",
    "\n",
    "# Incorporated citipy to determine city based on latitude and longitude\n",
    "from citipy import citipy\n",
    "\n",
    "# Output File (CSV)\n",
    "output_data_file = \"output_data/cities.csv\"\n",
    "\n",
    "# Range of latitudes and longitudes\n",
    "lat_range = (-90, 90)\n",
    "lng_range = (-180, 180)"
   ]
  },
  {
   "cell_type": "markdown",
   "metadata": {},
   "source": [
    "# Generate Cities List"
   ]
  },
  {
   "cell_type": "code",
   "execution_count": 17,
   "metadata": {},
   "outputs": [
    {
     "name": "stdout",
     "output_type": "stream",
     "text": [
      "vardo\n",
      "half moon bay\n",
      "albany\n",
      "benguela\n",
      "hobart\n",
      "baykit\n",
      "butaritari\n",
      "nanakuli\n",
      "beringovskiy\n"
     ]
    }
   ],
   "source": [
    "# List for holding lat_lngs and cities\n",
    "lat_lngs = []\n",
    "cities = []\n",
    "countries = []\n",
    "\n",
    "# Create a set of random lat and lng combinations\n",
    "lats = np.random.uniform(low=-90.000, high=90.000, size=10)\n",
    "lngs = np.random.uniform(low=-180.000, high=180.000, size=10)\n",
    "lat_lngs = zip(lats, lngs)\n",
    "\n",
    "# Identify nearest city for each lat, lng combination\n",
    "for lat_lng in lat_lngs:\n",
    "    city = citipy.nearest_city(lat_lng[0], lat_lng[1]).city_name\n",
    "    # If the city is unique, then add it to a our cities list\n",
    "    if city not in cities:\n",
    "        cities.append(city)\n",
    "\n",
    "# Print the city count to confirm sufficient count\n",
    "len(cities)\n",
    "for city in cities:\n",
    "    print(city)"
   ]
  },
  {
   "cell_type": "markdown",
   "metadata": {},
   "source": [
    "# Perform API Calls"
   ]
  },
  {
   "cell_type": "code",
   "execution_count": 18,
   "metadata": {},
   "outputs": [
    {
     "name": "stdout",
     "output_type": "stream",
     "text": [
      "API Call for open weather Database:\n",
      "Performing API request for city number 1: vardo\n",
      "Performing API request for city number 2: half moon bay\n",
      "Performing API request for city number 3: albany\n",
      "Performing API request for city number 4: benguela\n",
      "Performing API request for city number 5: hobart\n",
      "Performing API request for city number 6: baykit\n",
      "Performing API request for city number 7: butaritari\n",
      "Performing API request for city number 8: nanakuli\n",
      "Performing API request for city number 9: beringovskiy\n"
     ]
    }
   ],
   "source": [
    "# OpenWeatherMap API Key\n",
    "print(\"API Call for open weather Database:\")\n",
    "api_key = api_keys.api_key\n",
    "city_count = 0\n",
    "\n",
    "for city in cities:\n",
    "    # Starting URL for Weather Map API Call\n",
    "    base_url = \"http://api.openweathermap.org/data/2.5/weather?units=Imperial&APPID=\" + api_key \n",
    "    url = base_url + \"&q=\" + city\n",
    "    city_count += 1\n",
    "\n",
    "    print(f\"Performing API request for city number {city_count}: {city}\")\n",
    "    \n",
    "    weather_response = requests.get(url)\n",
    "    weather_json = weather_response.json()\n",
    "    \n",
    "    "
   ]
  },
  {
   "cell_type": "code",
   "execution_count": 13,
   "metadata": {},
   "outputs": [
    {
     "name": "stdout",
     "output_type": "stream",
     "text": [
      "{'coord': {'lon': 101.77, 'lat': 36.62}, 'weather': [{'id': 802, 'main': 'Clouds', 'description': 'scattered clouds', 'icon': '03d'}], 'base': 'stations', 'main': {'temp': 66.75, 'pressure': 746.02, 'humidity': 75, 'temp_min': 66.75, 'temp_max': 66.75, 'sea_level': 1015.83, 'grnd_level': 746.02}, 'wind': {'speed': 3.8, 'deg': 133}, 'clouds': {'all': 36}, 'dt': 1535440122, 'sys': {'message': 0.0078, 'country': 'CN', 'sunrise': 1535409645, 'sunset': 1535456818}, 'id': 1788852, 'name': 'Xining', 'cod': 200}\n"
     ]
    }
   ],
   "source": [
    "print(weather_json)"
   ]
  },
  {
   "cell_type": "markdown",
   "metadata": {},
   "source": [
    "## Summary Table of the findings"
   ]
  },
  {
   "cell_type": "code",
   "execution_count": null,
   "metadata": {},
   "outputs": [],
   "source": []
  }
 ],
 "metadata": {
  "kernelspec": {
   "display_name": "Python 3",
   "language": "python",
   "name": "python3"
  },
  "language_info": {
   "codemirror_mode": {
    "name": "ipython",
    "version": 3
   },
   "file_extension": ".py",
   "mimetype": "text/x-python",
   "name": "python",
   "nbconvert_exporter": "python",
   "pygments_lexer": "ipython3",
   "version": "3.6.5"
  }
 },
 "nbformat": 4,
 "nbformat_minor": 2
}
