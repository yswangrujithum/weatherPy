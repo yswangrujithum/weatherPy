{
 "cells": [
  {
   "cell_type": "code",
   "execution_count": 11,
   "metadata": {},
   "outputs": [],
   "source": [
    "#Dependencies\n",
    "import matplotlib.pyplot as plt\n",
    "import pandas as pd\n",
    "import numpy as np\n",
    "import requests \n",
    "import time\n",
    "from pprint import pprint\n",
    "\n",
    "import api_keys\n",
    "\n",
    "from citipy import citipy\n",
    "import pycountry\n",
    "\n",
    "output_data_file = \"output_data/cities.csv\"\n",
    "\n",
    "lat_range = (-90,90)\n",
    "lng_range = (-180,180)"
   ]
  },
  {
   "cell_type": "markdown",
   "metadata": {},
   "source": [
    "# Generate Cities List"
   ]
  },
  {
   "cell_type": "code",
   "execution_count": 12,
   "metadata": {},
   "outputs": [],
   "source": [
    "lat_lngs = []\n",
    "cities = []\n",
    "\n",
    "\n",
    "lats = np.random.uniform(low=-90.000, high=90.000, size=200)\n",
    "lngs = np.random.uniform(low=-180.000, high=180.000, size=200)\n",
    "lat_lngs = zip(lats, lngs)\n",
    "\n",
    "# Identify nearest city for each lat, lng combination\n",
    "for lat_lng in lat_lngs:\n",
    "    city = citipy.nearest_city(lat_lng[0], lat_lng[1]).city_name\n",
    "    # If the city is unique, then add it to a our cities list\n",
    "    if city not in cities:\n",
    "        cities.append(city)\n",
    "len(cities)\n",
    "city_df = pd.DataFrame(cities)\n",
    "\n",
    "city_df = city_df.rename(columns={0:\"City\"})\n"
   ]
  },
  {
   "cell_type": "markdown",
   "metadata": {},
   "source": [
    "# Perform API Calls"
   ]
  },
  {
   "cell_type": "code",
   "execution_count": 13,
   "metadata": {},
   "outputs": [
    {
     "name": "stdout",
     "output_type": "stream",
     "text": [
      "API Call for open weather Database:\n",
      "Performing API request for city number 1: butaritari\n",
      "Performing API request for city number 2: ushuaia\n",
      "Performing API request for city number 3: jamestown\n",
      "Performing API request for city number 4: vaini\n",
      "Performing API request for city number 5: vreed en hoop\n",
      "No Data Found\n",
      "Performing API request for city number 6: high rock\n",
      "Performing API request for city number 7: sentyabrskiy\n",
      "No Data Found\n",
      "Performing API request for city number 8: albany\n",
      "Performing API request for city number 9: oranjemund\n",
      "Performing API request for city number 10: illoqqortoormiut\n",
      "No Data Found\n",
      "Performing API request for city number 11: cidreira\n",
      "Performing API request for city number 12: rikitea\n",
      "Performing API request for city number 13: saint-philippe\n",
      "Performing API request for city number 14: talavera de la reina\n",
      "Performing API request for city number 15: puerto ayora\n",
      "Performing API request for city number 16: busselton\n",
      "Performing API request for city number 17: coihaique\n",
      "Performing API request for city number 18: khatanga\n",
      "Performing API request for city number 19: san carlos de bariloche\n",
      "Performing API request for city number 20: taolanaro\n",
      "No Data Found\n",
      "Performing API request for city number 21: guerrero negro\n",
      "Performing API request for city number 22: mar del plata\n",
      "Performing API request for city number 23: bilibino\n",
      "Performing API request for city number 24: akdepe\n",
      "Performing API request for city number 25: zakamensk\n",
      "Performing API request for city number 26: cape town\n",
      "Performing API request for city number 27: port alfred\n",
      "Performing API request for city number 28: palabuhanratu\n",
      "No Data Found\n",
      "Performing API request for city number 29: pevek\n",
      "Performing API request for city number 30: lebu\n",
      "Performing API request for city number 31: barrow\n",
      "Performing API request for city number 32: hilo\n",
      "Performing API request for city number 33: amderma\n",
      "No Data Found\n",
      "Performing API request for city number 34: puro\n",
      "Performing API request for city number 35: wilmington\n",
      "Performing API request for city number 36: tuktoyaktuk\n",
      "Performing API request for city number 37: ngukurr\n",
      "No Data Found\n",
      "Performing API request for city number 38: nikolskoye\n",
      "Performing API request for city number 39: sobolevo\n",
      "Performing API request for city number 40: mataura\n",
      "Performing API request for city number 41: souillac\n",
      "Performing API request for city number 42: uruzgan\n",
      "Performing API request for city number 43: hobart\n",
      "Performing API request for city number 44: torbay\n",
      "Performing API request for city number 45: qaanaaq\n",
      "Performing API request for city number 46: east london\n",
      "Performing API request for city number 47: upernavik\n",
      "Performing API request for city number 48: walvis bay\n",
      "Performing API request for city number 49: havoysund\n",
      "Performing API request for city number 50: castro\n",
      "Performing API request for city number 51: batemans bay\n",
      "Performing API request for city number 52: yongan\n",
      "Performing API request for city number 53: ancud\n",
      "Performing API request for city number 54: hermanus\n",
      "Performing API request for city number 55: tingo maria\n",
      "Performing API request for city number 56: tsihombe\n",
      "No Data Found\n",
      "Performing API request for city number 57: georgetown\n",
      "Performing API request for city number 58: punta arenas\n",
      "Performing API request for city number 59: bredasdorp\n",
      "Performing API request for city number 60: yellowknife\n",
      "Performing API request for city number 61: mayo\n",
      "Performing API request for city number 62: bolshiye uki\n",
      "No Data Found\n",
      "Performing API request for city number 63: port elizabeth\n",
      "Performing API request for city number 64: chuy\n",
      "Performing API request for city number 65: meulaboh\n",
      "Performing API request for city number 66: almaznyy\n",
      "Performing API request for city number 67: gurupi\n",
      "Performing API request for city number 68: yatou\n",
      "Performing API request for city number 69: gwadar\n",
      "Performing API request for city number 70: kuche\n",
      "No Data Found\n",
      "Performing API request for city number 71: atuona\n",
      "Performing API request for city number 72: kahului\n",
      "Performing API request for city number 73: bereda\n",
      "Performing API request for city number 74: gaogou\n",
      "Performing API request for city number 75: fortuna\n",
      "Performing API request for city number 76: kavaratti\n",
      "Performing API request for city number 77: new norfolk\n",
      "Performing API request for city number 78: wangou\n",
      "Performing API request for city number 79: stoyba\n",
      "No Data Found\n",
      "Performing API request for city number 80: avarua\n",
      "Performing API request for city number 81: victoria\n",
      "Performing API request for city number 82: ahuimanu\n",
      "Performing API request for city number 83: nelson bay\n",
      "Performing API request for city number 84: arraial do cabo\n",
      "Performing API request for city number 85: dovers\n",
      "Performing API request for city number 86: ukiah\n",
      "Performing API request for city number 87: yar-sale\n",
      "Performing API request for city number 88: mazagao\n",
      "Performing API request for city number 89: aklavik\n",
      "Performing API request for city number 90: cherskiy\n",
      "Performing API request for city number 91: cabo san lucas\n",
      "Performing API request for city number 92: lucapa\n",
      "Performing API request for city number 93: luena\n",
      "Performing API request for city number 94: saldanha\n",
      "Performing API request for city number 95: qasigiannguit\n",
      "Performing API request for city number 96: bluff\n",
      "Performing API request for city number 97: qaqortoq\n",
      "Performing API request for city number 98: bengkulu\n",
      "No Data Found\n",
      "Performing API request for city number 99: necochea\n",
      "Performing API request for city number 100: katima mulilo\n",
      "Performing API request for city number 101: nouna\n",
      "Performing API request for city number 102: brae\n",
      "Performing API request for city number 103: kota belud\n",
      "Performing API request for city number 104: barentsburg\n",
      "No Data Found\n",
      "Performing API request for city number 105: taltal\n",
      "Performing API request for city number 106: bambari\n",
      "Performing API request for city number 107: borogontsy\n",
      "Performing API request for city number 108: colares\n",
      "Performing API request for city number 109: palmer\n",
      "Performing API request for city number 110: rumoi\n",
      "Performing API request for city number 111: mariakani\n",
      "Performing API request for city number 112: vite\n",
      "Performing API request for city number 113: new amsterdam\n",
      "Performing API request for city number 114: kodiak\n",
      "Performing API request for city number 115: saint george\n",
      "Performing API request for city number 116: touros\n",
      "Performing API request for city number 117: lagoa\n",
      "Performing API request for city number 118: bambous virieux\n",
      "Performing API request for city number 119: port macquarie\n",
      "Performing API request for city number 120: zhigansk\n",
      "Performing API request for city number 121: moyo\n",
      "No Data Found\n",
      "Performing API request for city number 122: saint-pierre\n",
      "Performing API request for city number 123: krasnoselkup\n",
      "No Data Found\n",
      "Performing API request for city number 124: pedernales\n"
     ]
    }
   ],
   "source": [
    "api_key = api_keys.api_key\n",
    "city_count = 1\n",
    "lat = []\n",
    "lng = []\n",
    "countries = []\n",
    "temp = []\n",
    "humid = []\n",
    "cloud = []\n",
    "wind = []\n",
    "\n",
    "print(\"API Call for open weather Database:\")\n",
    "for city in cities:\n",
    "    base_url = \"http://api.openweathermap.org/data/2.5/weather?units=Imperial&APPID=\" + api_key \n",
    "    url = base_url + \"&q=\" + city\n",
    "    \n",
    "    \n",
    "    print(f\"Performing API request for city number {city_count}: {city}\")\n",
    "    weather_response = requests.get(url)\n",
    "    weather_json = weather_response.json()\n",
    "    city_count += 1\n",
    "    \n",
    "    if(weather_json['cod'] == '404'):\n",
    "        print(\"No Data Found\")\n",
    "        countries.append('0')\n",
    "        lat.append(0)\n",
    "        lng.append(0)\n",
    "        temp.append(0)\n",
    "        humid.append(0)\n",
    "        cloud.append(0)\n",
    "        wind.append(0)\n",
    "        \n",
    "    else:\n",
    "        countries.append(weather_json['sys']['country'])\n",
    "        lat.append(weather_json['coord']['lat'])\n",
    "        lng.append(weather_json['coord']['lon'])\n",
    "        temp.append(weather_json['main']['temp_max'])\n",
    "        humid.append(weather_json['main']['humidity'])\n",
    "        cloud.append(weather_json['clouds']['all'])\n",
    "        wind.append(weather_json['wind']['speed'])\n",
    "    \n",
    "\n",
    "    "
   ]
  },
  {
   "cell_type": "code",
   "execution_count": 14,
   "metadata": {},
   "outputs": [],
   "source": [
    "#pprint(weather_json)\n",
    "#print(countries)"
   ]
  },
  {
   "cell_type": "code",
   "execution_count": 15,
   "metadata": {},
   "outputs": [],
   "source": [
    "#city_df"
   ]
  },
  {
   "cell_type": "code",
   "execution_count": 16,
   "metadata": {},
   "outputs": [
    {
     "data": {
      "text/html": [
       "<div>\n",
       "<style scoped>\n",
       "    .dataframe tbody tr th:only-of-type {\n",
       "        vertical-align: middle;\n",
       "    }\n",
       "\n",
       "    .dataframe tbody tr th {\n",
       "        vertical-align: top;\n",
       "    }\n",
       "\n",
       "    .dataframe thead th {\n",
       "        text-align: right;\n",
       "    }\n",
       "</style>\n",
       "<table border=\"1\" class=\"dataframe\">\n",
       "  <thead>\n",
       "    <tr style=\"text-align: right;\">\n",
       "      <th></th>\n",
       "      <th>City</th>\n",
       "      <th>Country</th>\n",
       "      <th>Latitude</th>\n",
       "      <th>Longitude</th>\n",
       "      <th>Temperature (F)</th>\n",
       "      <th>Humidity (%)</th>\n",
       "      <th>Cloudiness (%)</th>\n",
       "      <th>Wind Speed (mph)</th>\n",
       "    </tr>\n",
       "  </thead>\n",
       "  <tbody>\n",
       "    <tr>\n",
       "      <th>0</th>\n",
       "      <td>butaritari</td>\n",
       "      <td>KI</td>\n",
       "      <td>3.07</td>\n",
       "      <td>172.79</td>\n",
       "      <td>85.53</td>\n",
       "      <td>100.0</td>\n",
       "      <td>8.0</td>\n",
       "      <td>3.94</td>\n",
       "    </tr>\n",
       "    <tr>\n",
       "      <th>1</th>\n",
       "      <td>ushuaia</td>\n",
       "      <td>AR</td>\n",
       "      <td>-54.81</td>\n",
       "      <td>-68.31</td>\n",
       "      <td>35.60</td>\n",
       "      <td>64.0</td>\n",
       "      <td>90.0</td>\n",
       "      <td>19.46</td>\n",
       "    </tr>\n",
       "    <tr>\n",
       "      <th>2</th>\n",
       "      <td>jamestown</td>\n",
       "      <td>AU</td>\n",
       "      <td>-33.21</td>\n",
       "      <td>138.60</td>\n",
       "      <td>70.23</td>\n",
       "      <td>23.0</td>\n",
       "      <td>68.0</td>\n",
       "      <td>19.26</td>\n",
       "    </tr>\n",
       "    <tr>\n",
       "      <th>3</th>\n",
       "      <td>vaini</td>\n",
       "      <td>IN</td>\n",
       "      <td>15.34</td>\n",
       "      <td>74.49</td>\n",
       "      <td>71.13</td>\n",
       "      <td>99.0</td>\n",
       "      <td>92.0</td>\n",
       "      <td>9.53</td>\n",
       "    </tr>\n",
       "    <tr>\n",
       "      <th>5</th>\n",
       "      <td>high rock</td>\n",
       "      <td>BS</td>\n",
       "      <td>26.63</td>\n",
       "      <td>-78.28</td>\n",
       "      <td>83.73</td>\n",
       "      <td>100.0</td>\n",
       "      <td>88.0</td>\n",
       "      <td>13.89</td>\n",
       "    </tr>\n",
       "  </tbody>\n",
       "</table>\n",
       "</div>"
      ],
      "text/plain": [
       "         City Country  Latitude  Longitude  Temperature (F)  Humidity (%)  \\\n",
       "0  butaritari      KI      3.07     172.79            85.53         100.0   \n",
       "1     ushuaia      AR    -54.81     -68.31            35.60          64.0   \n",
       "2   jamestown      AU    -33.21     138.60            70.23          23.0   \n",
       "3       vaini      IN     15.34      74.49            71.13          99.0   \n",
       "5   high rock      BS     26.63     -78.28            83.73         100.0   \n",
       "\n",
       "   Cloudiness (%)  Wind Speed (mph)  \n",
       "0             8.0              3.94  \n",
       "1            90.0             19.46  \n",
       "2            68.0             19.26  \n",
       "3            92.0              9.53  \n",
       "5            88.0             13.89  "
      ]
     },
     "execution_count": 16,
     "metadata": {},
     "output_type": "execute_result"
    }
   ],
   "source": [
    "city_df['Country'] = countries\n",
    "city_df['Latitude'] = lat\n",
    "city_df['Longitude'] = lng\n",
    "city_df['Temperature (F)'] = temp\n",
    "city_df['Humidity (%)'] = humid\n",
    "city_df['Cloudiness (%)'] = cloud\n",
    "city_df['Wind Speed (mph)'] = wind\n",
    "\n",
    "cities_df = city_df[city_df != 0.].dropna(axis=0)\n",
    "cities_df.head()"
   ]
  },
  {
   "cell_type": "markdown",
   "metadata": {},
   "source": [
    "### Temperature vs Latitude"
   ]
  },
  {
   "cell_type": "code",
   "execution_count": 17,
   "metadata": {},
   "outputs": [
    {
     "data": {
      "image/png": "[encoded data removed]",
      "text/plain": [
       "<Figure size 432x288 with 1 Axes>"
      ]
     },
     "metadata": {},
     "output_type": "display_data"
    }
   ],
   "source": [
    "# Build scatter plot for Temperature vs Latitude\n",
    "plt.scatter(cities_df[\"Latitude\"], cities_df['Temperature (F)'], marker =\"o\")\n",
    "plt.title(\"Latitude vs Temperature (F)\")\n",
    "plt.ylabel(\"Temperature (F)\")\n",
    "plt.xlabel(\"Latitude\")\n",
    "plt.grid(True)"
   ]
  },
  {
   "cell_type": "markdown",
   "metadata": {},
   "source": [
    "\n",
    "### Humidity vs Latitude"
   ]
  },
  {
   "cell_type": "code",
   "execution_count": 18,
   "metadata": {},
   "outputs": [
    {
     "data": {
      "image/png": "[encoded data removed]",
      "text/plain": [
       "<Figure size 432x288 with 1 Axes>"
      ]
     },
     "metadata": {},
     "output_type": "display_data"
    }
   ],
   "source": [
    "# Build scatter plot for Humidity vs Latitude\n",
    "plt.scatter(cities_df[\"Latitude\"], cities_df['Humidity (%)'], marker =\"o\")\n",
    "plt.title(\"Latitude vs Humidity (%)\")\n",
    "plt.ylabel(\"Humidity (%)\")\n",
    "plt.xlabel(\"Latitude\")\n",
    "plt.grid(True)"
   ]
  },
  {
   "cell_type": "markdown",
   "metadata": {},
   "source": [
    "### Cloudiness vs Latitude"
   ]
  },
  {
   "cell_type": "code",
   "execution_count": 19,
   "metadata": {},
   "outputs": [
    {
     "data": {
      "image/png": "[encoded data removed]",
      "text/plain": [
       "<Figure size 432x288 with 1 Axes>"
      ]
     },
     "metadata": {},
     "output_type": "display_data"
    }
   ],
   "source": [
    "plt.scatter(cities_df['Latitude'], cities_df['Cloudiness (%)'], marker ='o')\n",
    "plt.title('Latitude vs Cloudiness (%)')\n",
    "plt.ylabel('Cloudiness (%)')\n",
    "plt.xlabel('Latitude')\n",
    "plt.grid(True)"
   ]
  },
  {
   "cell_type": "markdown",
   "metadata": {},
   "source": [
    "### Wind Speed vs Latitude"
   ]
  },
  {
   "cell_type": "code",
   "execution_count": 20,
   "metadata": {},
   "outputs": [
    {
     "data": {
      "image/png": "[encoded data removed]",
      "text/plain": [
       "<Figure size 432x288 with 1 Axes>"
      ]
     },
     "metadata": {},
     "output_type": "display_data"
    }
   ],
   "source": [
    "plt.scatter(cities_df['Latitude'], cities_df['Wind Speed (mph)'], marker = 'o')\n",
    "plt.title('Latitude vs Wind Speed (mph)')\n",
    "plt.ylabel('Wind Speed (mph)')\n",
    "plt.xlabel('Latitude')\n",
    "plt.grid(True)"
   ]
  },
  {
   "cell_type": "code",
   "execution_count": null,
   "metadata": {},
   "outputs": [],
   "source": []
  }
 ],
 "metadata": {
  "kernelspec": {
   "display_name": "Python 3",
   "language": "python",
   "name": "python3"
  },
  "language_info": {
   "codemirror_mode": {
    "name": "ipython",
    "version": 3
   },
   "file_extension": ".py",
   "mimetype": "text/x-python",
   "name": "python",
   "nbconvert_exporter": "python",
   "pygments_lexer": "ipython3",
   "version": "3.6.5"
  }
 },
 "nbformat": 4,
 "nbformat_minor": 2
}
