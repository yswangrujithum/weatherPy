{
 "cells": [
  {
   "cell_type": "code",
   "execution_count": 15,
   "metadata": {},
   "outputs": [],
   "source": [
    "#Dependencies\n",
    "import matplotlib.pyplot as plt\n",
    "import pandas as pd\n",
    "import numpy as np\n",
    "import requests \n",
    "import time\n",
    "from pprint import pprint\n",
    "\n",
    "import api_keys\n",
    "\n",
    "from citipy import citipy\n",
    "import pycountry\n",
    "\n",
    "output_data_file = \"output_data/cities.csv\"\n",
    "\n",
    "lat_range = (-90,90)\n",
    "lng_range = (-180,180)"
   ]
  },
  {
   "cell_type": "markdown",
   "metadata": {},
   "source": [
    "# Generate Cities List"
   ]
  },
  {
   "cell_type": "code",
   "execution_count": 2,
   "metadata": {},
   "outputs": [
    {
     "data": {
      "text/html": [
       "<div>\n",
       "<style scoped>\n",
       "    .dataframe tbody tr th:only-of-type {\n",
       "        vertical-align: middle;\n",
       "    }\n",
       "\n",
       "    .dataframe tbody tr th {\n",
       "        vertical-align: top;\n",
       "    }\n",
       "\n",
       "    .dataframe thead th {\n",
       "        text-align: right;\n",
       "    }\n",
       "</style>\n",
       "<table border=\"1\" class=\"dataframe\">\n",
       "  <thead>\n",
       "    <tr style=\"text-align: right;\">\n",
       "      <th></th>\n",
       "      <th>City</th>\n",
       "    </tr>\n",
       "  </thead>\n",
       "  <tbody>\n",
       "    <tr>\n",
       "      <th>0</th>\n",
       "      <td>gombong</td>\n",
       "    </tr>\n",
       "    <tr>\n",
       "      <th>1</th>\n",
       "      <td>andros town</td>\n",
       "    </tr>\n",
       "    <tr>\n",
       "      <th>2</th>\n",
       "      <td>gouyave</td>\n",
       "    </tr>\n",
       "    <tr>\n",
       "      <th>3</th>\n",
       "      <td>hermanus</td>\n",
       "    </tr>\n",
       "    <tr>\n",
       "      <th>4</th>\n",
       "      <td>ostrovnoy</td>\n",
       "    </tr>\n",
       "  </tbody>\n",
       "</table>\n",
       "</div>"
      ],
      "text/plain": [
       "          City\n",
       "0      gombong\n",
       "1  andros town\n",
       "2      gouyave\n",
       "3     hermanus\n",
       "4    ostrovnoy"
      ]
     },
     "execution_count": 2,
     "metadata": {},
     "output_type": "execute_result"
    }
   ],
   "source": [
    "lat_lngs = []\n",
    "cities = []\n",
    "\n",
    "\n",
    "lats = np.random.uniform(low=-90.000, high=90.000, size=10)\n",
    "lngs = np.random.uniform(low=-180.000, high=180.000, size=10)\n",
    "lat_lngs = zip(lats, lngs)\n",
    "\n",
    "# Identify nearest city for each lat, lng combination\n",
    "for lat_lng in lat_lngs:\n",
    "    city = citipy.nearest_city(lat_lng[0], lat_lng[1]).city_name\n",
    "    # If the city is unique, then add it to a our cities list\n",
    "    if city not in cities:\n",
    "        cities.append(city)\n",
    "len(cities)\n",
    "city_df = pd.DataFrame(cities)\n",
    "\n",
    "city_df = city_df.rename(columns={0:\"City\"})\n",
    "city_df.head()"
   ]
  },
  {
   "cell_type": "markdown",
   "metadata": {},
   "source": [
    "# Perform API Calls"
   ]
  },
  {
   "cell_type": "code",
   "execution_count": 22,
   "metadata": {},
   "outputs": [
    {
     "name": "stdout",
     "output_type": "stream",
     "text": [
      "API Call for open weather Database:\n",
      "Performing API request for city number 1: gombong\n",
      "Performing API request for city number 2: andros town\n",
      "Performing API request for city number 3: gouyave\n",
      "Performing API request for city number 4: hermanus\n",
      "Performing API request for city number 5: ostrovnoy\n",
      "Performing API request for city number 6: longyearbyen\n",
      "Performing API request for city number 7: albany\n",
      "Performing API request for city number 8: vaini\n",
      "Performing API request for city number 9: khatanga\n",
      "Performing API request for city number 10: iqaluit\n"
     ]
    }
   ],
   "source": [
    "api_key = api_keys.api_key\n",
    "city_count = 0\n",
    "lat = []\n",
    "lng = []\n",
    "countries = []\n",
    "temp = []\n",
    "humid = []\n",
    "cloud = []\n",
    "wind = []\n",
    "\n",
    "print(\"API Call for open weather Database:\")\n",
    "for city in cities:\n",
    "    base_url = \"http://api.openweathermap.org/data/2.5/weather?units=Imperial&APPID=\" + api_key \n",
    "    url = base_url + \"&q=\" + city\n",
    "    city_count += 1\n",
    "    \n",
    "    print(f\"Performing API request for city number {city_count}: {city}\")\n",
    "    \n",
    "    weather_response = requests.get(url)\n",
    "    weather_json = weather_response.json()\n",
    "    countries.append(weather_json['sys']['country'])\n",
    "    lat.append(weather_json['coord']['lat'])\n",
    "    lng.append(weather_json['coord']['lon'])\n",
    "    temp.append(weather_json['main']['temp_max'])\n",
    "    humid.append(weather_json['main']['humidity'])\n",
    "    cloud.append(weather_json['clouds']['all'])\n",
    "    wind.append(weather_json['wind']['speed'])\n"
   ]
  },
  {
   "cell_type": "code",
   "execution_count": 7,
   "metadata": {},
   "outputs": [
    {
     "name": "stdout",
     "output_type": "stream",
     "text": [
      "{'base': 'stations',\n",
      " 'clouds': {'all': 75},\n",
      " 'cod': 200,\n",
      " 'coord': {'lat': 63.75, 'lon': -68.52},\n",
      " 'dt': 1535486400,\n",
      " 'id': 5983720,\n",
      " 'main': {'humidity': 81,\n",
      "          'pressure': 1003,\n",
      "          'temp': 44.6,\n",
      "          'temp_max': 44.6,\n",
      "          'temp_min': 44.6},\n",
      " 'name': 'Iqaluit',\n",
      " 'sys': {'country': 'CA',\n",
      "         'id': 3590,\n",
      "         'message': 0.0031,\n",
      "         'sunrise': 1535447331,\n",
      "         'sunset': 1535500751,\n",
      "         'type': 1},\n",
      " 'visibility': 48279,\n",
      " 'weather': [{'description': 'broken clouds',\n",
      "              'icon': '04d',\n",
      "              'id': 803,\n",
      "              'main': 'Clouds'}],\n",
      " 'wind': {'deg': 150, 'speed': 6.93}}\n"
     ]
    }
   ],
   "source": [
    "pprint(weather_json)"
   ]
  },
  {
   "cell_type": "code",
   "execution_count": 23,
   "metadata": {},
   "outputs": [
    {
     "data": {
      "text/html": [
       "<div>\n",
       "<style scoped>\n",
       "    .dataframe tbody tr th:only-of-type {\n",
       "        vertical-align: middle;\n",
       "    }\n",
       "\n",
       "    .dataframe tbody tr th {\n",
       "        vertical-align: top;\n",
       "    }\n",
       "\n",
       "    .dataframe thead th {\n",
       "        text-align: right;\n",
       "    }\n",
       "</style>\n",
       "<table border=\"1\" class=\"dataframe\">\n",
       "  <thead>\n",
       "    <tr style=\"text-align: right;\">\n",
       "      <th></th>\n",
       "      <th>City</th>\n",
       "      <th>Latitude</th>\n",
       "      <th>Longitude</th>\n",
       "      <th>Country</th>\n",
       "      <th>Temperature (F)</th>\n",
       "      <th>Humidity (%)</th>\n",
       "      <th>Cloudiness (%)</th>\n",
       "      <th>Wind Speed (mph)</th>\n",
       "    </tr>\n",
       "  </thead>\n",
       "  <tbody>\n",
       "    <tr>\n",
       "      <th>0</th>\n",
       "      <td>gombong</td>\n",
       "      <td>-7.19</td>\n",
       "      <td>109.31</td>\n",
       "      <td>ID</td>\n",
       "      <td>68.15</td>\n",
       "      <td>98</td>\n",
       "      <td>80</td>\n",
       "      <td>2.71</td>\n",
       "    </tr>\n",
       "    <tr>\n",
       "      <th>1</th>\n",
       "      <td>andros town</td>\n",
       "      <td>24.73</td>\n",
       "      <td>-77.79</td>\n",
       "      <td>BS</td>\n",
       "      <td>87.05</td>\n",
       "      <td>67</td>\n",
       "      <td>68</td>\n",
       "      <td>15.57</td>\n",
       "    </tr>\n",
       "    <tr>\n",
       "      <th>2</th>\n",
       "      <td>gouyave</td>\n",
       "      <td>12.16</td>\n",
       "      <td>-61.73</td>\n",
       "      <td>GD</td>\n",
       "      <td>78.80</td>\n",
       "      <td>88</td>\n",
       "      <td>20</td>\n",
       "      <td>14.05</td>\n",
       "    </tr>\n",
       "    <tr>\n",
       "      <th>3</th>\n",
       "      <td>hermanus</td>\n",
       "      <td>-34.42</td>\n",
       "      <td>19.24</td>\n",
       "      <td>ZA</td>\n",
       "      <td>40.52</td>\n",
       "      <td>95</td>\n",
       "      <td>0</td>\n",
       "      <td>2.04</td>\n",
       "    </tr>\n",
       "    <tr>\n",
       "      <th>4</th>\n",
       "      <td>ostrovnoy</td>\n",
       "      <td>68.05</td>\n",
       "      <td>39.51</td>\n",
       "      <td>RU</td>\n",
       "      <td>46.91</td>\n",
       "      <td>93</td>\n",
       "      <td>32</td>\n",
       "      <td>5.50</td>\n",
       "    </tr>\n",
       "    <tr>\n",
       "      <th>5</th>\n",
       "      <td>longyearbyen</td>\n",
       "      <td>78.22</td>\n",
       "      <td>15.63</td>\n",
       "      <td>NO</td>\n",
       "      <td>39.20</td>\n",
       "      <td>80</td>\n",
       "      <td>75</td>\n",
       "      <td>5.82</td>\n",
       "    </tr>\n",
       "    <tr>\n",
       "      <th>6</th>\n",
       "      <td>albany</td>\n",
       "      <td>42.65</td>\n",
       "      <td>-73.75</td>\n",
       "      <td>US</td>\n",
       "      <td>93.92</td>\n",
       "      <td>43</td>\n",
       "      <td>75</td>\n",
       "      <td>9.17</td>\n",
       "    </tr>\n",
       "    <tr>\n",
       "      <th>7</th>\n",
       "      <td>vaini</td>\n",
       "      <td>15.34</td>\n",
       "      <td>74.49</td>\n",
       "      <td>IN</td>\n",
       "      <td>68.33</td>\n",
       "      <td>98</td>\n",
       "      <td>92</td>\n",
       "      <td>5.61</td>\n",
       "    </tr>\n",
       "    <tr>\n",
       "      <th>8</th>\n",
       "      <td>khatanga</td>\n",
       "      <td>71.98</td>\n",
       "      <td>102.47</td>\n",
       "      <td>RU</td>\n",
       "      <td>48.35</td>\n",
       "      <td>76</td>\n",
       "      <td>0</td>\n",
       "      <td>8.34</td>\n",
       "    </tr>\n",
       "    <tr>\n",
       "      <th>9</th>\n",
       "      <td>iqaluit</td>\n",
       "      <td>63.75</td>\n",
       "      <td>-68.52</td>\n",
       "      <td>CA</td>\n",
       "      <td>44.60</td>\n",
       "      <td>81</td>\n",
       "      <td>75</td>\n",
       "      <td>6.93</td>\n",
       "    </tr>\n",
       "  </tbody>\n",
       "</table>\n",
       "</div>"
      ],
      "text/plain": [
       "           City  Latitude  Longitude Country  Temperature (F)  Humidity (%)  \\\n",
       "0       gombong     -7.19     109.31      ID            68.15            98   \n",
       "1   andros town     24.73     -77.79      BS            87.05            67   \n",
       "2       gouyave     12.16     -61.73      GD            78.80            88   \n",
       "3      hermanus    -34.42      19.24      ZA            40.52            95   \n",
       "4     ostrovnoy     68.05      39.51      RU            46.91            93   \n",
       "5  longyearbyen     78.22      15.63      NO            39.20            80   \n",
       "6        albany     42.65     -73.75      US            93.92            43   \n",
       "7         vaini     15.34      74.49      IN            68.33            98   \n",
       "8      khatanga     71.98     102.47      RU            48.35            76   \n",
       "9       iqaluit     63.75     -68.52      CA            44.60            81   \n",
       "\n",
       "   Cloudiness (%)  Wind Speed (mph)  \n",
       "0              80              2.71  \n",
       "1              68             15.57  \n",
       "2              20             14.05  \n",
       "3               0              2.04  \n",
       "4              32              5.50  \n",
       "5              75              5.82  \n",
       "6              75              9.17  \n",
       "7              92              5.61  \n",
       "8               0              8.34  \n",
       "9              75              6.93  "
      ]
     },
     "execution_count": 23,
     "metadata": {},
     "output_type": "execute_result"
    }
   ],
   "source": [
    "city_df['Country'] = countries\n",
    "city_df['Latitude'] = lat\n",
    "city_df['Longitude'] = lng\n",
    "city_df['Temperature (F)'] = temp\n",
    "city_df['Humidity (%)'] = humid\n",
    "city_df['Cloudiness (%)'] = cloud\n",
    "city_df['Wind Speed (mph)'] = wind\n",
    "\n",
    "city_df\n"
   ]
  },
  {
   "cell_type": "markdown",
   "metadata": {},
   "source": [
    "### Temperature vs Latitude"
   ]
  },
  {
   "cell_type": "code",
   "execution_count": 24,
   "metadata": {},
   "outputs": [
    {
     "data": {
      "image/png": "[encoded data removed]",
      "text/plain": [
       "<Figure size 432x288 with 1 Axes>"
      ]
     },
     "metadata": {},
     "output_type": "display_data"
    }
   ],
   "source": [
    "# Build scatter plot for Temperature vs Latitude\n",
    "plt.scatter(city_df[\"Latitude\"], city_df['Temperature (F)'], marker =\"o\")\n",
    "plt.title(\"Latitude vs Temperature (F)\")\n",
    "plt.ylabel(\"Temperature (F)\")\n",
    "plt.xlabel(\"Latitude\")\n",
    "plt.grid(True)"
   ]
  },
  {
   "cell_type": "markdown",
   "metadata": {},
   "source": [
    "\n",
    "### Humidity vs Latitude"
   ]
  },
  {
   "cell_type": "code",
   "execution_count": 28,
   "metadata": {},
   "outputs": [
    {
     "data": {
      "image/png": "[encoded data removed]",
      "text/plain": [
       "<Figure size 432x288 with 1 Axes>"
      ]
     },
     "metadata": {},
     "output_type": "display_data"
    }
   ],
   "source": [
    "# Build scatter plot for Humidity vs Latitude\n",
    "plt.scatter(city_df[\"Latitude\"], city_df['Humidity (%)'], marker =\"o\")\n",
    "plt.title(\"Latitude vs Humidity (%)\")\n",
    "plt.ylabel(\"Humidity (%)\")\n",
    "plt.xlabel(\"Latitude\")\n",
    "plt.grid(True)"
   ]
  },
  {
   "cell_type": "markdown",
   "metadata": {},
   "source": [
    "### Cloudiness vs Latitude"
   ]
  },
  {
   "cell_type": "code",
   "execution_count": 29,
   "metadata": {},
   "outputs": [
    {
     "data": {
      "image/png": "[encoded data removed]",
      "text/plain": [
       "<Figure size 432x288 with 1 Axes>"
      ]
     },
     "metadata": {},
     "output_type": "display_data"
    }
   ],
   "source": [
    "plt.scatter(city_df['Latitude'], city_df['Cloudiness (%)'], marker ='o')\n",
    "plt.title('Latitude vs Cloudiness (%)')\n",
    "plt.ylabel('Cloudiness (%)')\n",
    "plt.xlabel('Latitude')\n",
    "plt.grid(True)"
   ]
  },
  {
   "cell_type": "markdown",
   "metadata": {},
   "source": [
    "### Wind Speed vs Latitude"
   ]
  },
  {
   "cell_type": "code",
   "execution_count": 30,
   "metadata": {},
   "outputs": [
    {
     "data": {
      "image/png": "[encoded data removed]",
      "text/plain": [
       "<Figure size 432x288 with 1 Axes>"
      ]
     },
     "metadata": {},
     "output_type": "display_data"
    }
   ],
   "source": [
    "plt.scatter(city_df['Latitude'], city_df['Wind Speed (mph)'], marker = 'o')\n",
    "plt.title('Latitude vs Wind Speed (mph)')\n",
    "plt.ylabel('Wind Speed (mph)')\n",
    "plt.xlabel('Latitude')\n",
    "plt.grid(True)"
   ]
  },
  {
   "cell_type": "code",
   "execution_count": null,
   "metadata": {},
   "outputs": [],
   "source": []
  }
 ],
 "metadata": {
  "kernelspec": {
   "display_name": "Python 3",
   "language": "python",
   "name": "python3"
  },
  "language_info": {
   "codemirror_mode": {
    "name": "ipython",
    "version": 3
   },
   "file_extension": ".py",
   "mimetype": "text/x-python",
   "name": "python",
   "nbconvert_exporter": "python",
   "pygments_lexer": "ipython3",
   "version": "3.6.5"
  }
 },
 "nbformat": 4,
 "nbformat_minor": 2
}
